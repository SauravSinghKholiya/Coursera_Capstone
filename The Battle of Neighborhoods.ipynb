{
 "cells": [
  {
   "cell_type": "markdown",
   "metadata": {
    "collapsed": true
   },
   "source": [
    "# The Battle of Neighborhoods"
   ]
  },
  {
   "cell_type": "markdown",
   "metadata": {},
   "source": [
    "## Introduction to project\n",
    "\n",
    "In this project, we will bw working on New Delhi dataset.\n",
    "New Delhi is the Capital of India and has a population of about 2.18 crore (21.8 million). \n",
    "It has a diversity of religions and a lot of people from different parts of the country come here for work.\n",
    "Is is a central hub of various business and political work.\n",
    "New Delhi are used interchangeably to refer to the National Capital Territory of Delhi (NCT), these are two distinct entities, with New Delhi forming a small part of Delhi. The National Capital Region is a much larger entity comprising the entire NCT along with adjoining districts in neighboring states.\n",
    "\n",
    "There are various types of restraunts and famous for variety of food.\n",
    "\n",
    "In this project we will visualize hot spots and various neighboring restraunts of Delhi.\n"
   ]
  },
  {
   "cell_type": "markdown",
   "metadata": {},
   "source": [
    "## Raw Data\n",
    "\n",
    "To do this project, we will use the followinf data sets.\n",
    "\n",
    "New Delhi Resturants data that contains list Locality, Resturant name,Rating along with their latitude and longitude.\n",
    " <ul>\n",
    "     <li>Data source : kaggel dataset</li>\n",
    "    <li>Description : This data set contains the required information. And we will use this data set to explore various locality of new delhi city.</li></ul>\n",
    "\n",
    "The link to the data is : https://www.kaggle.com/shrutimehta/zomato-restaurants-data"
   ]
  },
  {
   "cell_type": "markdown",
   "metadata": {},
   "source": [
    "## Data Creation and Gathering\n",
    "\n",
    "Nearby places in each locality of new delhi city.\n",
    "<ul><li>Data source : Fousquare API</li>\n",
    "    <li>Description : By using this api we will get all the venues in each neighborhood.</li></ul>"
   ]
  },
  {
   "cell_type": "markdown",
   "metadata": {},
   "source": [
    "## Procedure\n",
    "\n",
    "- Collect the new delhi city data from Zomato kaggel dataset\n",
    "- Using FourSquare API we will find all venues for each neighborhood.\n",
    "- Filter out all venues that are nearby by locality.\n",
    "- Using aggregative rating for each resturant to find the best places.\n",
    "- Visualize the Ranking of neighborhoods using folium library(python)"
   ]
  },
  {
   "cell_type": "code",
   "execution_count": null,
   "metadata": {},
   "outputs": [],
   "source": []
  }
 ],
 "metadata": {
  "kernelspec": {
   "display_name": "Python 3.6",
   "language": "python",
   "name": "python3"
  },
  "language_info": {
   "codemirror_mode": {
    "name": "ipython",
    "version": 3
   },
   "file_extension": ".py",
   "mimetype": "text/x-python",
   "name": "python",
   "nbconvert_exporter": "python",
   "pygments_lexer": "ipython3",
   "version": "3.6.9"
  }
 },
 "nbformat": 4,
 "nbformat_minor": 1
}
